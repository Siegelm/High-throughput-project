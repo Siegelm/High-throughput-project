{
 "cells": [
  {
   "cell_type": "code",
   "execution_count": 11,
   "metadata": {},
   "outputs": [
    {
     "data": {
      "text/plain": [
       "'Gata4, Gapdh, Eif5a, Pdcd4, Pdpk1, Agt, E2f3'"
      ]
     },
     "execution_count": 11,
     "metadata": {},
     "output_type": "execute_result"
    }
   ],
   "source": [
    "import numpy as np\n",
    "import csv\n",
    "import os\n",
    "def Genelist (filename): #Definition of the function to save the gene list from a Panther analysis output file\n",
    "    with open(filename) as f:\n",
    "        data = f.readlines()\n",
    "    reader = csv.reader(data,delimiter=';') #Open the file and use it as a csv file\n",
    "    G=[]\n",
    "    for row in reader:\n",
    "        G.append(row[1]) #For each row, keep only the gene ID\n",
    "    s=\", \".join(G) #Make the list more readable and possible to copy/paste in another file\n",
    "    os.remove('pantherGeneList.txt') #Remove the file to have the possibility to run this script for each downloaded file\n",
    "    return s \n",
    "Genelist('pantherGeneList.txt')\n"
   ]
  },
  {
   "cell_type": "code",
   "execution_count": null,
   "metadata": {},
   "outputs": [],
   "source": []
  }
 ],
 "metadata": {
  "kernelspec": {
   "display_name": "Python 3",
   "language": "python",
   "name": "python3"
  },
  "language_info": {
   "codemirror_mode": {
    "name": "ipython",
    "version": 3
   },
   "file_extension": ".py",
   "mimetype": "text/x-python",
   "name": "python",
   "nbconvert_exporter": "python",
   "pygments_lexer": "ipython3",
   "version": "3.7.0"
  }
 },
 "nbformat": 4,
 "nbformat_minor": 2
}
